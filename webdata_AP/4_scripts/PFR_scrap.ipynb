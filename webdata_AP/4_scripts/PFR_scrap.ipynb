{
 "cells": [
  {
   "cell_type": "code",
   "execution_count": 6,
   "metadata": {},
   "outputs": [],
   "source": [
    "import pandas as pd\n",
    "from selenium import webdriver\n",
    "from selenium.webdriver.common.by import By"
   ]
  },
  {
   "cell_type": "code",
   "execution_count": 7,
   "metadata": {},
   "outputs": [],
   "source": [
    "navegador = webdriver.Firefox()"
   ]
  },
  {
   "cell_type": "code",
   "execution_count": 8,
   "metadata": {},
   "outputs": [],
   "source": [
    "navegador.get('https://www.pro-football-reference.com')"
   ]
  },
  {
   "cell_type": "code",
   "execution_count": 9,
   "metadata": {},
   "outputs": [],
   "source": [
    "navegador.find_element(By.XPATH, '/html/body/div[2]/div[2]/div/div[1]/h2/a').click()"
   ]
  },
  {
   "cell_type": "code",
   "execution_count": 10,
   "metadata": {},
   "outputs": [],
   "source": [
    "navegador.find_element(By.XPATH, '/html/body/div[2]/div[3]/p/a').click()"
   ]
  },
  {
   "cell_type": "code",
   "execution_count": 11,
   "metadata": {},
   "outputs": [],
   "source": [
    "navegador.find_element(By.XPATH, '/html/body/div[2]/div[5]/div[1]/div[2]/table/thead/tr[2]/th[6]').click()"
   ]
  },
  {
   "cell_type": "code",
   "execution_count": 12,
   "metadata": {},
   "outputs": [],
   "source": [
    "navegador.find_element(By.XPATH, '/html/body/div[2]/div[5]/div[1]/div[2]/table/thead/tr[2]/th[6]').click()"
   ]
  },
  {
   "cell_type": "code",
   "execution_count": 16,
   "metadata": {},
   "outputs": [
    {
     "name": "stdout",
     "output_type": "stream",
     "text": [
      "['Julius Peppers', 'Dwight Freeney', 'Darrelle Revis', 'Joe Thomas', 'Devin Hester', 'Andre Johnson', 'DeMarcus Ware', 'Calvin Johnson', 'Peyton Manning', 'Charles Woodson', 'Patrick Willis', 'Troy Polamalu', 'Champ Bailey', 'Tony Gonzalez', 'Ed Reed', 'Ronde Barber', 'Richard Seymour', 'Steve Hutchinson', 'Ray Lewis', 'Randy Moss', 'Brian Urlacher', 'Brian Dawkins', 'Jason Taylor', 'LaDainian Tomlinson', 'Alan Faneca', 'Terrell Owens', 'Brett Favre', 'Isaac Bruce', 'Edgerrin James', 'Ty Law', 'Kevin Mawae', 'Kurt Warner', 'Orlando Pace', 'Junior Seau', 'Zach Thomas', 'Marvin Harrison', 'Derrick Brooks', 'Walter Jones', 'Bryant Young', 'John Lynch', 'Morten Andersen', 'Michael Strahan', 'Larry Allen', 'Jonathan Ogden', 'Warren Sapp', 'Will Shields', 'Jerome Bettis', 'Curtis Martin', 'Willie Roaf', 'Marshall Faulk', 'Deion Sanders', 'Tim Brown', 'Aeneas Williams', 'Jerry Rice', 'Emmitt Smith', 'Shannon Sharpe', 'John Randle', 'Bruce Smith', 'Rod Woodson', 'Cris Carter', 'Darrell Green', 'Tony Boselli', 'LeRoy Butler', 'Terrell Davis', 'Randall McDaniel', 'Bruce Matthews', 'Andre Reed', 'Dermontti Dawson', 'Cortez Kennedy', 'Thurman Thomas', 'Troy Aikman', 'Warren Moon', 'Reggie White', 'Steve Atwater', 'Kevin Greene', 'Charles Haley', 'Chris Doleman', 'Derrick Thomas', 'Michael Irvin', 'Dan Marino', 'Steve Young', 'John Elway', 'Barry Sanders', 'Sam Mills', 'Richard Dent', 'Gary Zimmerman', 'Marcus Allen', 'Jim Kelly', 'Rickey Jackson', 'Art Monk', 'Jackie Slater', 'Steve McMichael', 'Ronnie Lott', 'Joe Montana', 'Andre Tippett', 'James Lofton', 'Mike Munchak', 'Howie Long', 'Eric Dickerson', 'Lawrence Taylor']\n"
     ]
    }
   ],
   "source": [
    "lista_nomes = []\n",
    "\n",
    "for i in range(1, 101):\n",
    "    nome = navegador.find_element(By.XPATH, '/html/body/div[2]/div[5]/div[1]/div[2]/table/tbody/tr['+str(i)+']/td[1]/a').text\n",
    "    lista_nomes.append(nome)\n"
   ]
  },
  {
   "cell_type": "code",
   "execution_count": 18,
   "metadata": {},
   "outputs": [],
   "source": [
    "lista_posicao = []\n",
    "\n",
    "for i in range(1, 101):\n",
    "    posicao = navegador.find_element(By.XPATH, '/html/body/div[2]/div[5]/div[1]/div[2]/table/tbody/tr['+str(i)+']/td[2]').text\n",
    "    lista_posicao.append(posicao)\n",
    "    "
   ]
  },
  {
   "cell_type": "code",
   "execution_count": 17,
   "metadata": {},
   "outputs": [],
   "source": [
    "lista_ano_de_inducao = []\n",
    "\n",
    "for i in range(1, 101):\n",
    "    ano_de_inducao = navegador.find_element(By.XPATH, '/html/body/div[2]/div[5]/div[1]/div[2]/table/tbody/tr['+str(i)+']/td[3]/a').text\n",
    "    lista_ano_de_inducao.append(ano_de_inducao)\n",
    "    "
   ]
  },
  {
   "cell_type": "code",
   "execution_count": 19,
   "metadata": {},
   "outputs": [],
   "source": [
    "lista_ano_inicial = []\n",
    "\n",
    "for i in range(1, 101):\n",
    "    ano_inicial = navegador.find_element(By.XPATH, '/html/body/div[2]/div[5]/div[1]/div[2]/table/tbody/tr['+str(i)+']/td[4]').text\n",
    "    lista_ano_inicial.append(ano_inicial)\n",
    "    "
   ]
  },
  {
   "cell_type": "code",
   "execution_count": 20,
   "metadata": {},
   "outputs": [],
   "source": [
    "lista_ano_final = []\n",
    "\n",
    "for i in range(1, 101):\n",
    "    ano_final = navegador.find_element(By.XPATH, '/html/body/div[2]/div[5]/div[1]/div[2]/table/tbody/tr['+str(i)+']/td[5]').text\n",
    "    lista_ano_final.append(ano_final)\n",
    "    "
   ]
  },
  {
   "cell_type": "code",
   "execution_count": 21,
   "metadata": {},
   "outputs": [],
   "source": [
    "jogadores_hof = pd.DataFrame(lista_nomes, columns=['Nomes'])"
   ]
  },
  {
   "cell_type": "code",
   "execution_count": 22,
   "metadata": {},
   "outputs": [],
   "source": [
    "jogadores_hof['Posição'] = lista_posicao\n",
    "jogadores_hof['Ano de Indução'] = lista_ano_de_inducao\n",
    "jogadores_hof['Ano Inicial'] = lista_ano_inicial\n",
    "jogadores_hof['Ano Final'] = lista_ano_final"
   ]
  },
  {
   "cell_type": "code",
   "execution_count": 23,
   "metadata": {},
   "outputs": [
    {
     "data": {
      "text/html": [
       "<div>\n",
       "<style scoped>\n",
       "    .dataframe tbody tr th:only-of-type {\n",
       "        vertical-align: middle;\n",
       "    }\n",
       "\n",
       "    .dataframe tbody tr th {\n",
       "        vertical-align: top;\n",
       "    }\n",
       "\n",
       "    .dataframe thead th {\n",
       "        text-align: right;\n",
       "    }\n",
       "</style>\n",
       "<table border=\"1\" class=\"dataframe\">\n",
       "  <thead>\n",
       "    <tr style=\"text-align: right;\">\n",
       "      <th></th>\n",
       "      <th>Nomes</th>\n",
       "      <th>Posição</th>\n",
       "      <th>Ano de Indução</th>\n",
       "      <th>Ano Inicial</th>\n",
       "      <th>Ano Final</th>\n",
       "    </tr>\n",
       "  </thead>\n",
       "  <tbody>\n",
       "    <tr>\n",
       "      <th>0</th>\n",
       "      <td>Julius Peppers</td>\n",
       "      <td>DE</td>\n",
       "      <td>2024</td>\n",
       "      <td>2002</td>\n",
       "      <td>2018</td>\n",
       "    </tr>\n",
       "    <tr>\n",
       "      <th>1</th>\n",
       "      <td>Dwight Freeney</td>\n",
       "      <td>DE</td>\n",
       "      <td>2024</td>\n",
       "      <td>2002</td>\n",
       "      <td>2017</td>\n",
       "    </tr>\n",
       "    <tr>\n",
       "      <th>2</th>\n",
       "      <td>Darrelle Revis</td>\n",
       "      <td>DB</td>\n",
       "      <td>2023</td>\n",
       "      <td>2007</td>\n",
       "      <td>2017</td>\n",
       "    </tr>\n",
       "    <tr>\n",
       "      <th>3</th>\n",
       "      <td>Joe Thomas</td>\n",
       "      <td>T</td>\n",
       "      <td>2023</td>\n",
       "      <td>2007</td>\n",
       "      <td>2017</td>\n",
       "    </tr>\n",
       "    <tr>\n",
       "      <th>4</th>\n",
       "      <td>Devin Hester</td>\n",
       "      <td>PR</td>\n",
       "      <td>2024</td>\n",
       "      <td>2006</td>\n",
       "      <td>2016</td>\n",
       "    </tr>\n",
       "    <tr>\n",
       "      <th>...</th>\n",
       "      <td>...</td>\n",
       "      <td>...</td>\n",
       "      <td>...</td>\n",
       "      <td>...</td>\n",
       "      <td>...</td>\n",
       "    </tr>\n",
       "    <tr>\n",
       "      <th>95</th>\n",
       "      <td>James Lofton</td>\n",
       "      <td>WR</td>\n",
       "      <td>2003</td>\n",
       "      <td>1978</td>\n",
       "      <td>1993</td>\n",
       "    </tr>\n",
       "    <tr>\n",
       "      <th>96</th>\n",
       "      <td>Mike Munchak</td>\n",
       "      <td>G</td>\n",
       "      <td>2001</td>\n",
       "      <td>1982</td>\n",
       "      <td>1993</td>\n",
       "    </tr>\n",
       "    <tr>\n",
       "      <th>97</th>\n",
       "      <td>Howie Long</td>\n",
       "      <td>DE</td>\n",
       "      <td>2000</td>\n",
       "      <td>1981</td>\n",
       "      <td>1993</td>\n",
       "    </tr>\n",
       "    <tr>\n",
       "      <th>98</th>\n",
       "      <td>Eric Dickerson</td>\n",
       "      <td>RB</td>\n",
       "      <td>1999</td>\n",
       "      <td>1983</td>\n",
       "      <td>1993</td>\n",
       "    </tr>\n",
       "    <tr>\n",
       "      <th>99</th>\n",
       "      <td>Lawrence Taylor</td>\n",
       "      <td>LB</td>\n",
       "      <td>1999</td>\n",
       "      <td>1981</td>\n",
       "      <td>1993</td>\n",
       "    </tr>\n",
       "  </tbody>\n",
       "</table>\n",
       "<p>100 rows × 5 columns</p>\n",
       "</div>"
      ],
      "text/plain": [
       "              Nomes Posição Ano de Indução Ano Inicial Ano Final\n",
       "0    Julius Peppers      DE           2024        2002      2018\n",
       "1    Dwight Freeney      DE           2024        2002      2017\n",
       "2    Darrelle Revis      DB           2023        2007      2017\n",
       "3        Joe Thomas       T           2023        2007      2017\n",
       "4      Devin Hester      PR           2024        2006      2016\n",
       "..              ...     ...            ...         ...       ...\n",
       "95     James Lofton      WR           2003        1978      1993\n",
       "96     Mike Munchak       G           2001        1982      1993\n",
       "97       Howie Long      DE           2000        1981      1993\n",
       "98   Eric Dickerson      RB           1999        1983      1993\n",
       "99  Lawrence Taylor      LB           1999        1981      1993\n",
       "\n",
       "[100 rows x 5 columns]"
      ]
     },
     "execution_count": 23,
     "metadata": {},
     "output_type": "execute_result"
    }
   ],
   "source": [
    "jogadores_hof"
   ]
  },
  {
   "cell_type": "code",
   "execution_count": 24,
   "metadata": {},
   "outputs": [],
   "source": [
    "jogadores_hof.to_csv('../0_bases_originais/dados_originais.csv')"
   ]
  },
  {
   "cell_type": "code",
   "execution_count": 25,
   "metadata": {},
   "outputs": [],
   "source": [
    "jogadores_hof.to_json('../0_bases_originais/dados_originais.json')"
   ]
  }
 ],
 "metadata": {
  "kernelspec": {
   "display_name": "Python 3 (ipykernel)",
   "language": "python",
   "name": "python3"
  },
  "language_info": {
   "codemirror_mode": {
    "name": "ipython",
    "version": 3
   },
   "file_extension": ".py",
   "mimetype": "text/x-python",
   "name": "python",
   "nbconvert_exporter": "python",
   "pygments_lexer": "ipython3",
   "version": "3.11.5"
  }
 },
 "nbformat": 4,
 "nbformat_minor": 2
}
